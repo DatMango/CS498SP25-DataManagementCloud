{
 "cells": [
  {
   "cell_type": "code",
   "execution_count": 1,
   "metadata": {},
   "outputs": [],
   "source": [
    "import pandas as pd"
   ]
  },
  {
   "cell_type": "code",
   "execution_count": 2,
   "metadata": {},
   "outputs": [
    {
     "name": "stdout",
     "output_type": "stream",
     "text": [
      "Index(['index', 'totalviews/channelelapsedtime', 'channelId',\n",
      "       'videoCategoryId', 'channelViewCount', 'likes/subscriber',\n",
      "       'views/subscribers', 'videoCount', 'subscriberCount', 'videoId',\n",
      "       'dislikes/views', 'channelelapsedtime', 'comments/subscriber',\n",
      "       'likes/views', 'channelCommentCount', 'videoViewCount',\n",
      "       'likes/dislikes', 'comments/views', 'totvideos/videocount',\n",
      "       'elapsedtime', 'videoLikeCount', 'videoDislikeCount',\n",
      "       'dislikes/subscriber', 'totviews/totsubs', 'views/elapsedtime',\n",
      "       'videoPublished', 'VideoCommentCount'],\n",
      "      dtype='object')\n"
     ]
    }
   ],
   "source": [
    "df = pd.read_csv(\"YouTubeDataset_withChannelElapsed.csv\")\n",
    "print(df.columns)"
   ]
  },
  {
   "cell_type": "code",
   "execution_count": 6,
   "metadata": {},
   "outputs": [
    {
     "name": "stdout",
     "output_type": "stream",
     "text": [
      "19983\n",
      "0\n"
     ]
    }
   ],
   "source": [
    "# Check for duplicate videoId, aggregate --> use .agg\n",
    "\n",
    "duplicate_count = df.duplicated(subset=['videoId']).sum()\n",
    "print(duplicate_count)\n",
    "\n",
    "# agg rules\n",
    "agg_rules = {\n",
    "    'totalviews/channelelapsedtime': 'mean',\n",
    "    'channelId': 'first',  # Keep the first occurrence\n",
    "    'videoCategoryId': 'first',\n",
    "    'channelViewCount': 'sum',  \n",
    "    'likes/subscriber': 'mean',\n",
    "    'views/subscribers': 'mean',\n",
    "    'videoCount': 'sum',\n",
    "    'subscriberCount': 'sum',\n",
    "    'dislikes/views': 'mean',\n",
    "    'channelelapsedtime': 'mean',\n",
    "    'comments/subscriber': 'mean',\n",
    "    'likes/views': 'mean',\n",
    "    'channelCommentCount': 'sum',\n",
    "    'videoViewCount': 'sum',\n",
    "    'likes/dislikes': 'mean',\n",
    "    'comments/views': 'mean',\n",
    "    'totvideos/videocount': 'mean',\n",
    "    'elapsedtime': 'mean',\n",
    "    'videoLikeCount': 'sum',\n",
    "    'videoDislikeCount': 'sum',\n",
    "    'dislikes/subscriber': 'mean',\n",
    "    'totviews/totsubs': 'mean',\n",
    "    'views/elapsedtime': 'mean',\n",
    "    'videoPublished': 'first',  # Keep the first occurrence\n",
    "    'VideoCommentCount': 'sum'\n",
    "}\n",
    "\n",
    "df_cleaned = df.groupby('videoId').agg(agg_rules).reset_index()\n",
    "duplicate_count2 = df_cleaned.duplicated(subset=['videoId']).sum()\n",
    "print(duplicate_count2)"
   ]
  },
  {
   "cell_type": "code",
   "execution_count": 9,
   "metadata": {},
   "outputs": [
    {
     "name": "stdout",
     "output_type": "stream",
     "text": [
      "Average Likes: 302.65794858781163\n"
     ]
    }
   ],
   "source": [
    "# Question 1\n",
    "# Calculate the average number of likes per video.\n",
    "\n",
    "avg_likes = df_cleaned['videoLikeCount'].mean()\n",
    "print(\"Average Likes:\", avg_likes)"
   ]
  },
  {
   "cell_type": "code",
   "execution_count": 13,
   "metadata": {},
   "outputs": [
    {
     "name": "stdout",
     "output_type": "stream",
     "text": [
      "-0.0546247593454116\n"
     ]
    }
   ],
   "source": [
    "# Question 2\n",
    "# Compute the engagement rate for each video, where \n",
    "# engagement rate is defined as the sum of likes, dislikes, \n",
    "# and comments divided by the total number of views for that \n",
    "# video. Finally, find the average engagement rate across \n",
    "# all videos in the dataset.\n",
    "# (round to nearest 4 decimal points)\n",
    "\n",
    "df_cleaned['engagement_rate'] = (df_cleaned['videoLikeCount'] + df_cleaned['videoDislikeCount'] + df_cleaned['VideoCommentCount']) / df_cleaned['videoViewCount']\n",
    "avg_eng_rate = df_cleaned['engagement_rate'].mean()\n",
    "print(avg_eng_rate)"
   ]
  },
  {
   "cell_type": "code",
   "execution_count": 15,
   "metadata": {},
   "outputs": [
    {
     "name": "stdout",
     "output_type": "stream",
     "text": [
      "0.19578933715820312\n"
     ]
    }
   ],
   "source": [
    "# Question 3\n",
    "# Each video contains 500 bytes of metadata and a 200 KB \n",
    "# thumbnail. Calculate the combined storage size for a single \n",
    "# video in megabytes (MB). (round to nearest 4 decimal points)\n",
    "\n",
    "# 500 bytes metadata --> 1 MB = 1024 KB, 1 KB = 1024 bytes\n",
    "# 200 KB thumbnail\n",
    "metadata_MB = 500 / (1024 * 1024)\n",
    "thumbnail_MB = 200 / 1024\n",
    "single_video_MB = metadata_MB + thumbnail_MB\n",
    "print(single_video_MB)"
   ]
  },
  {
   "cell_type": "code",
   "execution_count": 16,
   "metadata": {},
   "outputs": [
    {
     "name": "stdout",
     "output_type": "stream",
     "text": [
      "39461907.32278824\n"
     ]
    }
   ],
   "source": [
    "# Question 4\n",
    "# Each time someone engages with a video, the video’s metadata \n",
    "# (likes , dislikes, comments, and thumbnail) is accessed and \n",
    "# potentially transmitted. The total data transfer refers to the \n",
    "# sum of all data accessed for all engagements. Using the total \n",
    "# number of engagements and combined storage size of a single \n",
    "# video (You calculated in Question 3), estimate the total data \n",
    "# transfer required for all engagements with videos in the dataset.\n",
    "\n",
    "df_cleaned['total_engagements'] = df_cleaned['videoLikeCount'] + df_cleaned['videoDislikeCount'] + df_cleaned['VideoCommentCount']\n",
    "tot_eng = df_cleaned['total_engagements'].sum()\n",
    "tot_data_transfer = tot_eng * single_video_MB\n",
    "print(tot_data_transfer)"
   ]
  },
  {
   "cell_type": "code",
   "execution_count": 17,
   "metadata": {},
   "outputs": [
    {
     "name": "stdout",
     "output_type": "stream",
     "text": [
      "12887.504316210046\n"
     ]
    }
   ],
   "source": [
    "# Question 5\n",
    "# Estimate the number of views per minute, assuming the dataset \n",
    "# spans 5 years with views uniformly distributed over time.\n",
    "\n",
    "# 5 years --> 5y * 365d * 24h * 60m\n",
    "\n",
    "minutes_5y = 5 * 365 * 24 * 60\n",
    "\n",
    "tot_views = df_cleaned['videoViewCount'].sum()\n",
    "views_per_min = tot_views / minutes_5y\n",
    "print(views_per_min)"
   ]
  },
  {
   "cell_type": "code",
   "execution_count": 19,
   "metadata": {},
   "outputs": [
    {
     "name": "stdout",
     "output_type": "stream",
     "text": [
      "2523.2359276942466\n"
     ]
    }
   ],
   "source": [
    "# Question 6\n",
    "# Estimate the amount of data accessed per minute to display \n",
    "# video details to viewers.\n",
    "\n",
    "data_per_min = views_per_min * single_video_MB\n",
    "print(data_per_min)"
   ]
  },
  {
   "cell_type": "code",
   "execution_count": null,
   "metadata": {},
   "outputs": [],
   "source": []
  }
 ],
 "metadata": {
  "kernelspec": {
   "display_name": "Python 3",
   "language": "python",
   "name": "python3"
  },
  "language_info": {
   "codemirror_mode": {
    "name": "ipython",
    "version": 3
   },
   "file_extension": ".py",
   "mimetype": "text/x-python",
   "name": "python",
   "nbconvert_exporter": "python",
   "pygments_lexer": "ipython3",
   "version": "3.10.11"
  }
 },
 "nbformat": 4,
 "nbformat_minor": 2
}
